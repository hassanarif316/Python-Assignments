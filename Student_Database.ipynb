{
 "cells": [
  {
   "cell_type": "code",
   "execution_count": 2,
   "metadata": {},
   "outputs": [
    {
     "name": "stdout",
     "output_type": "stream",
     "text": [
      "\n",
      "Complete List of Students (Tuples):\n",
      "[(1, 'Hassan'), (2, 'Ali'), (3, 'Qasim'), (4, 'Babar'), (5, 'Azam')]\n",
      "\n",
      "List of Students with IDs:\n",
      "ID: 1, Name: Hassan\n",
      "ID: 2, Name: Ali\n",
      "ID: 3, Name: Qasim\n",
      "ID: 4, Name: Babar\n",
      "ID: 5, Name: Azam\n",
      "\n",
      "Total number of students: 5\n",
      "Total length of all student names combined: 23\n",
      "The student with the longest name is: Hassan\n",
      "The student with the shortest name is: Ali\n"
     ]
    }
   ],
   "source": [
    "#from kivy.app import app\n",
    "#from kivy.uix.boxlayout import boxlayout\n",
    "#from kivy.uix.label import label\n",
    "#from kivy.uix.button import button\n",
    "#from kivy.uix.textinput import textinput\n",
    "#from kivy.uix.popup import popup\n",
    "\n",
    "def manage_student_database():\n",
    "  listt=[]\n",
    "  id=1\n",
    "  total_st=0\n",
    "  leng:int=0\n",
    "  longest=\"\"\n",
    "  shortest=\"\"\n",
    "\n",
    "  cond=True\n",
    "  while cond:\n",
    "    inp=input(\"enter name(type stop to finish):\")\n",
    "\n",
    "    if inp==\"stop\":\n",
    "      cond=False\n",
    "    elif any(inp == student[1] for student in listt):  \n",
    "      print(\"Name exists\")\n",
    "    else:\n",
    "      stTuple=(id,inp)\n",
    "      listt.append(stTuple)\n",
    "      id+=1 \n",
    "      total_st+=1\n",
    "    \n",
    "    \n",
    "  print(f\"\\nComplete List of Students (Tuples):\\n{listt}\") \n",
    "  print(\"\\nList of Students with IDs:\")\n",
    "  for x in listt:\n",
    "    print(f\"ID: {x[0]}, Name: {x[1]}\") \n",
    "\n",
    "  print(f\"\\nTotal number of students: {total_st}\")\n",
    "  \n",
    "  for x in listt:\n",
    "    leng= leng+len(x[1])\n",
    "  print(f\"Total length of all student names combined: {leng}\") \n",
    "\n",
    "  for x in listt:\n",
    "    if len(x[1])>=len(longest):\n",
    "      longest=x[1]\n",
    "  print(f\"The student with the longest name is: {longest}\")\n",
    "\n",
    "  shortest=listt[0][1]\n",
    "  for x in listt:\n",
    "    if len(x[1])<len(shortest):\n",
    "      shortest=x[1]\n",
    "  print(f\"The student with the shortest name is: {shortest}\")\n",
    "    \n",
    "\n",
    "manage_student_database()"
   ]
  },
  {
   "cell_type": "code",
   "execution_count": null,
   "metadata": {},
   "outputs": [],
   "source": []
  }
 ],
 "metadata": {
  "kernelspec": {
   "display_name": "Python 3",
   "language": "python",
   "name": "python3"
  },
  "language_info": {
   "codemirror_mode": {
    "name": "ipython",
    "version": 3
   },
   "file_extension": ".py",
   "mimetype": "text/x-python",
   "name": "python",
   "nbconvert_exporter": "python",
   "pygments_lexer": "ipython3",
   "version": "3.12.4"
  }
 },
 "nbformat": 4,
 "nbformat_minor": 2
}
