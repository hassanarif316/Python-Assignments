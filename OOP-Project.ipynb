{
 "cells": [
  {
   "cell_type": "code",
   "execution_count": 3,
   "metadata": {},
   "outputs": [
    {
     "name": "stdout",
     "output_type": "stream",
     "text": [
      "\n",
      "--- Student Performance ---\n",
      "Student: Ali, Average: 56.67, Status: Passing\n",
      "Student: Ahmed, Average: 22.67, Status: Failing\n",
      "Student: Rubab, Average: 69.67, Status: Passing\n",
      "Student: Rafay, Average: 44.33, Status: Failing\n",
      "\n",
      "Class Average: 48.33\n"
     ]
    }
   ],
   "source": [
    "class Student:\n",
    "    def __init__(self, name, scores):\n",
    "        self.name = name\n",
    "        self.scores = scores\n",
    "\n",
    "    def calculate_average(self):\n",
    "        return sum(self.scores) / len(self.scores)\n",
    "\n",
    "    def is_passing(self, passing_threshold=40):\n",
    "        return all(score >= passing_threshold for score in self.scores)\n",
    "\n",
    "\n",
    "class PerformanceTracker:\n",
    "    def __init__(self):\n",
    "        self.students = {}\n",
    "\n",
    "    def add_student(self, name, scores):\n",
    "        self.students[name] = Student(name, scores)\n",
    "\n",
    "    def calculate_class_average(self):\n",
    "        if not self.students:\n",
    "            return 0\n",
    "        total_scores = sum(student.calculate_average() for student in self.students.values())\n",
    "        return total_scores / len(self.students)\n",
    "\n",
    "    def display_student_performance(self):\n",
    "        if not self.students:\n",
    "            print(\"No students have been added yet.\")\n",
    "            return\n",
    "        for student in self.students.values():\n",
    "            average = student.calculate_average()\n",
    "            passing_status = \"Passing\" if student.is_passing() else \"Failing\"\n",
    "            print(f\"Student: {student.name}, Average: {average:.2f}, Status: {passing_status}\")\n",
    "\n",
    "\n",
    "def input_students(tracker):\n",
    "    while True:\n",
    "        try:\n",
    "            name = input(\"Enter student's name (or type 'done' to finish): \").strip()\n",
    "            if name.lower() == 'done':\n",
    "                break\n",
    "\n",
    "            scores = []\n",
    "            for subject in [\"Math\", \"Science\", \"English\"]:\n",
    "                score = int(input(f\"Enter {subject} score for {name}: \"))\n",
    "                scores.append(score)\n",
    "\n",
    "            tracker.add_student(name, scores)\n",
    "        except ValueError:\n",
    "            print(\"Invalid input! Please enter numeric values for scores.\")\n",
    "\n",
    "\n",
    "def display_results(tracker):\n",
    "    print(\"\\n--- Student Performance ---\")\n",
    "    tracker.display_student_performance()\n",
    "    class_average = tracker.calculate_class_average()\n",
    "    print(f\"\\nClass Average: {class_average:.2f}\")\n",
    "\n",
    "\n",
    "if __name__ == \"__main__\":\n",
    "    tracker = PerformanceTracker()\n",
    "    input_students(tracker)\n",
    "    display_results(tracker)\n"
   ]
  },
  {
   "cell_type": "code",
   "execution_count": null,
   "metadata": {},
   "outputs": [],
   "source": []
  }
 ],
 "metadata": {
  "kernelspec": {
   "display_name": "Python 3",
   "language": "python",
   "name": "python3"
  },
  "language_info": {
   "codemirror_mode": {
    "name": "ipython",
    "version": 3
   },
   "file_extension": ".py",
   "mimetype": "text/x-python",
   "name": "python",
   "nbconvert_exporter": "python",
   "pygments_lexer": "ipython3",
   "version": "3.12.4"
  }
 },
 "nbformat": 4,
 "nbformat_minor": 2
}
