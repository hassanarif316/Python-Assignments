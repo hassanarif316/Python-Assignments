{
 "cells": [
  {
   "cell_type": "code",
   "execution_count": 1,
   "metadata": {},
   "outputs": [
    {
     "name": "stdout",
     "output_type": "stream",
     "text": [
      "Hello, Hassan Arif! Let's explore your favorite numbers:\n",
      "The number 4 is even.\n",
      "The number 5 is odd.\n",
      "The number 8 is even.\n",
      "\n",
      "\n",
      "The number 4 and its square: (4, 16)\n",
      "The number 5 and its square: (5, 25)\n",
      "The number 8 and its square: (8, 64)\n",
      "Amazing! The sum of your favorite numbers is: 17\n",
      "Wow, 17 is a prime number!\n"
     ]
    }
   ],
   "source": [
    "name =input(\"enter your name: \")\n",
    "num1= int(input(\"enter your 1st favorite no.: \"))\n",
    "num2= int(input(\"enter your 2nd favorite no.: \"))\n",
    "num3= int(input(\"enter your 3rd favorite no.: \"))\n",
    "listt=[num1,num2,num3]\n",
    "print(f\"Hello, {name}! Let's explore your favorite numbers:\")\n",
    "#print(listt)\n",
    "eo_list = []\n",
    "\n",
    "for i in listt:\n",
    "    if i % 2 == 0:\n",
    "        eo_list.append((i, \"even\"))\n",
    "    else:\n",
    "        eo_list.append((i, \"odd\"))\n",
    "\n",
    "for num, eo in eo_list:\n",
    "    print(f\"The number {num} is {eo}.\")\n",
    "print(\"\\n\")\n",
    "for i in listt:\n",
    "    square = i ** 2\n",
    "    print(f\"The number {i} and its square: ({i}, {square})\")\n",
    "    \n",
    "add=sum(listt)\n",
    "print(f\"Amazing! The sum of your favorite numbers is: {add}\")  \n",
    "\n",
    "is_prime:bool = True\n",
    "if add <= 1:\n",
    "     is_prime=False\n",
    "for i in range(2,add):\n",
    "     if add%i==0:\n",
    "          is_prime=False     \n",
    "\n",
    "if is_prime:\n",
    "        print(f\"Wow, {add} is a prime number!\")\n",
    "else:\n",
    "        print(f\"Oops, {add} is not a prime number.\")"
   ]
  },
  {
   "cell_type": "code",
   "execution_count": null,
   "metadata": {},
   "outputs": [],
   "source": []
  }
 ],
 "metadata": {
  "kernelspec": {
   "display_name": "Python 3",
   "language": "python",
   "name": "python3"
  },
  "language_info": {
   "codemirror_mode": {
    "name": "ipython",
    "version": 3
   },
   "file_extension": ".py",
   "mimetype": "text/x-python",
   "name": "python",
   "nbconvert_exporter": "python",
   "pygments_lexer": "ipython3",
   "version": "3.12.4"
  }
 },
 "nbformat": 4,
 "nbformat_minor": 2
}
