{
 "cells": [
  {
   "cell_type": "code",
   "execution_count": 19,
   "metadata": {},
   "outputs": [
    {
     "name": "stdout",
     "output_type": "stream",
     "text": [
      "Product of 4*4 = 16\n"
     ]
    }
   ],
   "source": [
    "def add(a,b) ->int:\n",
    "    return a+b\n",
    "\n",
    "def sub(a,b) -> int:\n",
    "    return a-b\n",
    "\n",
    "def mul(a,b) -> int:\n",
    "    return a*b\n",
    "\n",
    "def div(a,b):\n",
    "    if b==0:\n",
    "        return \"Error, Division by zero is undefined.\"\n",
    "    return a//b\n",
    "\n",
    "\n",
    "\n",
    "x=int(input(\"enter 1st no.:\"))\n",
    "y=int(input(\"enter 2nd no.:\"))\n",
    "z=input(\"enter op(+,-,*,/)\")\n",
    "\n",
    "if z=='+':\n",
    " print(f\"Sum of {x}+{y} = {add(x,y)}\")\n",
    "\n",
    "elif z=='-':\n",
    " print(f\"Result of {x}-{y} = {sub(x,y)}\")\n",
    "   \n",
    "elif z=='*':\n",
    " print(f\"Product of {x}*{y} = {mul(x,y)}\")\n",
    "   \n",
    "elif z=='/':\n",
    "   print(f\"Result of {x}/{y} = {div(x,y)}\")\n",
    "\n",
    "else:\n",
    "   print(\"Invalid op\")   \n",
    "\n"
   ]
  },
  {
   "cell_type": "code",
   "execution_count": null,
   "metadata": {},
   "outputs": [],
   "source": []
  }
 ],
 "metadata": {
  "kernelspec": {
   "display_name": "Python 3",
   "language": "python",
   "name": "python3"
  },
  "language_info": {
   "codemirror_mode": {
    "name": "ipython",
    "version": 3
   },
   "file_extension": ".py",
   "mimetype": "text/x-python",
   "name": "python",
   "nbconvert_exporter": "python",
   "pygments_lexer": "ipython3",
   "version": "3.12.4"
  }
 },
 "nbformat": 4,
 "nbformat_minor": 2
}
